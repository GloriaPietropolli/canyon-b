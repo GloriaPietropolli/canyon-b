{
 "cells": [
  {
   "cell_type": "code",
   "execution_count": 108,
   "metadata": {},
   "outputs": [],
   "source": [
    "import numpy as np\n",
    "import pandas as pd\n",
    "import torch\n",
    "import torch.nn as nn\n",
    "import torch.nn.functional as F\n",
    "import torch.optim as optim\n",
    "import matplotlib.pyplot as plt\n",
    "from blitz.modules import BayesianLinear\n",
    "from IPython import display\n",
    "from torchvision import datasets, transforms\n",
    "from res.plot_lib import plot_data, plot_model, set_default\n",
    "from matplotlib import pyplot as plt\n",
    "from scipy import interpolate"
   ]
  },
  {
   "cell_type": "code",
   "execution_count": 121,
   "metadata": {},
   "outputs": [],
   "source": [
    "set_default()"
   ]
  },
  {
   "cell_type": "code",
   "execution_count": 122,
   "metadata": {},
   "outputs": [],
   "source": [
    "presgrid=pd.read_csv(\"../dataset/CY_doy_pres_limit.csv\", \"\\t\")"
   ]
  },
  {
   "cell_type": "code",
   "execution_count": 123,
   "metadata": {},
   "outputs": [],
   "source": [
    "lat_pivot=np.linspace(-90.5, 90.5, 182)\n",
    "lon_pivot=np.linspace(-180.5, 180.5, 362)"
   ]
  },
  {
   "cell_type": "code",
   "execution_count": 124,
   "metadata": {},
   "outputs": [],
   "source": [
    "presgrid=presgrid.to_numpy()\n",
    "presgrid=presgrid[:, 1:]"
   ]
  },
  {
   "cell_type": "code",
   "execution_count": 125,
   "metadata": {},
   "outputs": [],
   "source": [
    "x,y=np.meshgrid(lat_pivot,lon_pivot)"
   ]
  },
  {
   "cell_type": "code",
   "execution_count": 126,
   "metadata": {},
   "outputs": [
    {
     "name": "stderr",
     "output_type": "stream",
     "text": [
      "/home/gpietrop/anaconda3/envs/blitz/lib/python3.6/site-packages/scipy/interpolate/_fitpack_impl.py:977: RuntimeWarning: No more knots can be added because the additional knot would\n",
      "coincide with an old one. Probable cause: s too small or too large\n",
      "a weight to an inaccurate data point. (fp>s)\n",
      "\tkx,ky=1,1 nx,ny=65,80 m=65884 fp=17529338.937876 s=0.000000\n",
      "  warnings.warn(RuntimeWarning(_iermess2[ierm][0] + _mess))\n"
     ]
    }
   ],
   "source": [
    "prespivot=interpolate.interp2d(x,y,presgrid)"
   ]
  },
  {
   "cell_type": "code",
   "execution_count": 127,
   "metadata": {},
   "outputs": [],
   "source": [
    "def fsigmoid(pre, lat, lon):\n",
    "    res=1/(1+np.exp((pre-prespivot(lat,lon))/50))\n",
    "    return res"
   ]
  },
  {
   "cell_type": "code",
   "execution_count": 141,
   "metadata": {},
   "outputs": [],
   "source": [
    "data=pd.read_csv(\"../dataset/data_CT.csv\")\n",
    "mont_dict = {'Jan':1,'Feb':2,'Mar':3,'Apr':4,'May':5,'Jun':6,'Jul':7,'Aug':8,'Sep':9,'Oct':10,'Nov':11,'Dec':12}\n",
    "\n",
    "dataset=data[data.categ=='training']          \n",
    "validation=data[data.categ=='validation']\n",
    "\n",
    "out_d=dataset['tcarbn'].to_numpy()\n",
    "in_d=dataset[['date','date', 'date','latitude', 'longitude', 'pres', 'temp', 'doxy', 'psal']].to_numpy()\n",
    "\n",
    "out_v=validation['tcarbn'].to_numpy()\n",
    "in_v=validation[['date','date', 'date', 'latitude', 'longitude', 'pres', 'temp', 'doxy', 'psal']].to_numpy()"
   ]
  },
  {
   "cell_type": "code",
   "execution_count": 142,
   "metadata": {},
   "outputs": [],
   "source": [
    "def fixd(dataset):\n",
    "    for i in range(len(dataset[:,0])):\n",
    "        dataset[i,0] = int(dataset[i,0][7:11])\n",
    "        dataset[i,1] = mont_dict[dataset[i,1][3:6]]\n",
    "        dataset[i,2] = int(dataset[i,2][0:2])\n",
    "\n",
    "fixd(in_d)\n",
    "fixd(in_v)\n",
    "in_d=in_d.astype('float64')\n",
    "in_v=in_v.astype('float64')"
   ]
  },
  {
   "cell_type": "code",
   "execution_count": 143,
   "metadata": {},
   "outputs": [],
   "source": [
    "data = torch.from_numpy(in_d)\n",
    "target = torch.from_numpy(out_d)\n",
    "data=data.float()\n",
    "target=target.float()"
   ]
  },
  {
   "cell_type": "code",
   "execution_count": 145,
   "metadata": {},
   "outputs": [],
   "source": [
    "def prep_dataset(data):\n",
    "    fsigmoi=[]\n",
    "    for i in range(len(data[:,0])):\n",
    "        if data[i,4]>180:\n",
    "            data[i,4]=data[i,4]-360                                                  #longitude\n",
    "        fsigmoi.append(fsigmoid(data[i,5], data[1,3], data[i,4]))\n",
    "    data[:,3]=data[:,3]/90                                                           #latitude [-90,90]/90\n",
    "    data[:,5]=(data[:,5]/20000) + (1 / ((1+np.exp(-(data[:,5])/300))**3))            #pressure\n",
    "    for i in range(len(data[:,0])):\n",
    "        day=data[i,2].item()\n",
    "        month=data[i,1]*30\n",
    "        month=month.item()\n",
    "        time=day+month\n",
    "        data[i,1]=np.cos(time*2*np.pi/365)*fsigmoi[i]\n",
    "        data[i,2]=np.sin(time*2*np.pi/365)*fsigmoi[i]\n",
    "    return data\n",
    "\n",
    "data=prep_dataset(data)"
   ]
  },
  {
   "cell_type": "code",
   "execution_count": 7,
   "metadata": {},
   "outputs": [],
   "source": [
    "def norm_fun_d(data):\n",
    "    mean=[ data[:,i].mean() for i in range(data.size()[1]) ]\n",
    "    std =[ data[:,i].std() for i in range(data.size()[1]) ]\n",
    "    for i in range(data.size()[1]):\n",
    "        data[:,i]=2/3*(data[:,i]-mean[i])/std[i] \n",
    "    return data, mean, std\n",
    "\n",
    "def norm_fun_t(target):\n",
    "    mean=target.mean()\n",
    "    std=target.std()\n",
    "    #target=2/3*(target-mean)/std\n",
    "    return mean, std #target, mean, std\n",
    "\n",
    "data, mean_data, std_data=norm_fun_d(data)\n",
    "#mean_ct, std_ct =norm_fun_t(target)\n",
    "#target"
   ]
  },
  {
   "cell_type": "code",
   "execution_count": 8,
   "metadata": {},
   "outputs": [],
   "source": [
    "b1=open(\"../dataset/poids_ct/poids_CT_b1_1.txt\")\n",
    "b2=open(\"../dataset/poids_ct/poids_CT_b2_1.txt\")\n",
    "b3=open(\"../dataset/poids_ct/poids_CT_b3_1.txt\")\n",
    "IW=open(\"../dataset/poids_ct/poids_CT_IW_1.txt\")\n",
    "IW=IW.read()\n",
    "LW1=open(\"../dataset/poids_ct/poids_CT_LW1_1.txt\")\n",
    "LW1=LW1.read()\n",
    "LW2=open(\"../dataset/poids_ct/poids_CT_LW2_1.txt\")\n",
    "LW2=LW2.read()\n",
    "\n",
    "b1=np.array([float(i) for i in b1.read().splitlines()])\n",
    "b2=np.array([float(i) for i in b2.read().splitlines()])\n",
    "b3=np.array([float(i) for i in b3.read().splitlines()])\n",
    "IW=np.array([item.split() for item in IW.split('\\n')[:-1]])\n",
    "LW1=np.array([item.split() for item in LW1.split('\\n')[:-1]])\n",
    "LW2=np.array([item.split() for item in LW2.split('\\n')[:-1]])\n",
    "IW=IW.astype(np.float)\n",
    "LW1=LW1.astype(np.float)\n",
    "LW2=LW2.astype(np.float)\n",
    "\n",
    "b1=torch.from_numpy(b1).double()\n",
    "b2=torch.from_numpy(b2).double()\n",
    "b3=torch.from_numpy(b3).double()\n",
    "IW=torch.from_numpy(IW).double()\n",
    "LW1=torch.from_numpy(LW1).double()\n",
    "LW2=torch.from_numpy(LW2).double()"
   ]
  },
  {
   "cell_type": "code",
   "execution_count": 9,
   "metadata": {},
   "outputs": [],
   "source": [
    "def custom_MF(x):\n",
    "    A=4/3\n",
    "    a=1.7159\n",
    "    res=A*(np.exp(a*x)-1)/(np.exp(a*x)+1)\n",
    "    return res"
   ]
  },
  {
   "cell_type": "code",
   "execution_count": 10,
   "metadata": {},
   "outputs": [],
   "source": [
    "sam=torch.ones(9,1)\n",
    "for i in range(9):\n",
    "    sam[i,0]=data[0,i]\n",
    "    sam=sam.double()"
   ]
  },
  {
   "cell_type": "code",
   "execution_count": 11,
   "metadata": {},
   "outputs": [],
   "source": [
    "pr=torch.matmul(IW,sam)\n",
    "pr=pr.transpose(0,1)\n",
    "su=b1+pr\n",
    "res=custom_MF(su)\n",
    "res=res.transpose(0,1)\n",
    "\n",
    "pr2=torch.matmul(LW1, res)\n",
    "pr2=pr2.transpose(0,1)\n",
    "su2=pr2+b2\n",
    "res2=custom_MF(su2)\n",
    "res2=res2.transpose(0,1)\n",
    "\n",
    "pr3=torch.matmul(LW2, res2)\n",
    "pr3=pr3.transpose(0,1)\n",
    "su3=pr3+b3"
   ]
  },
  {
   "cell_type": "code",
   "execution_count": 12,
   "metadata": {},
   "outputs": [],
   "source": [
    "mean=torch.tensor([2301.0800])\n",
    "std=torch.tensor([42.060267])"
   ]
  },
  {
   "cell_type": "code",
   "execution_count": 13,
   "metadata": {},
   "outputs": [],
   "source": [
    "ct_output=1.5*su3*std + mean"
   ]
  },
  {
   "cell_type": "code",
   "execution_count": 14,
   "metadata": {},
   "outputs": [
    {
     "data": {
      "text/plain": [
       "tensor([[2316.2331]], dtype=torch.float64)"
      ]
     },
     "execution_count": 14,
     "metadata": {},
     "output_type": "execute_result"
    }
   ],
   "source": [
    "ct_output"
   ]
  },
  {
   "cell_type": "code",
   "execution_count": null,
   "metadata": {},
   "outputs": [],
   "source": []
  }
 ],
 "metadata": {
  "kernelspec": {
   "display_name": "Python 3",
   "language": "python",
   "name": "python3"
  },
  "language_info": {
   "codemirror_mode": {
    "name": "ipython",
    "version": 3
   },
   "file_extension": ".py",
   "mimetype": "text/x-python",
   "name": "python",
   "nbconvert_exporter": "python",
   "pygments_lexer": "ipython3",
   "version": "3.6.12"
  }
 },
 "nbformat": 4,
 "nbformat_minor": 4
}
